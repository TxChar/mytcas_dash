{
 "cells": [
  {
   "cell_type": "code",
   "execution_count": 11,
   "metadata": {},
   "outputs": [
    {
     "name": "stdout",
     "output_type": "stream",
     "text": [
      "Data cleaned and saved to cleaned_data.json\n"
     ]
    }
   ],
   "source": [
    "import json\n",
    "import re\n",
    "\n",
    "def clean_data(data):\n",
    "    cleaned_data = []\n",
    "\n",
    "    for university in data:\n",
    "        cleaned_university = {\n",
    "            \"มหาวิทยาลัย\": university[\"มหาวิทยาลัย\"],\n",
    "            \"รายละเอียด\": {}\n",
    "        }\n",
    "\n",
    "        for branch, programs in university[\"รายละเอียด\"].items():\n",
    "            # Remove leading numbers from branch names\n",
    "            clean_branch = re.sub(r\"^\\d+\\.\\s*\", \"\", branch)\n",
    "            cleaned_university[\"รายละเอียด\"][clean_branch] = []\n",
    "\n",
    "            for program in programs:\n",
    "                clean_program = {}\n",
    "                for key, value in program.items():\n",
    "                    if key == \"\":\n",
    "                        continue\n",
    "                    elif key == \"ค่าใช้จ่าย\":\n",
    "                        # Extract only the first numeric value from ค่าใช้จ่าย\n",
    "                        match = re.search(r\"\\d{1,3}(?:,\\d{3})*(?:\\.\\d+)?\", value.replace(\",\", \"\"))\n",
    "                        clean_program[key] = int(match.group().replace(\",\", \"\")) if match else \"ไม่ทราบ\"\n",
    "                    elif key.startswith(\"รอบ\"):\n",
    "                        # Extract only numeric values from acceptance numbers\n",
    "                        if \"ไม่เปิดรับสมัครในรอบนี้\" in value:\n",
    "                            clean_program[key] = 0\n",
    "                        else:\n",
    "                            match = re.search(r\"\\d+\", value)\n",
    "                            clean_program[key] = int(match.group()) if match else 0\n",
    "                    else:\n",
    "                        clean_program[key] = value\n",
    "\n",
    "                # Remove empty values\n",
    "                clean_program = {k: v for k, v in clean_program.items() if v != \"\"}\n",
    "                cleaned_university[\"รายละเอียด\"][clean_branch].append(clean_program)\n",
    "\n",
    "        cleaned_data.append(cleaned_university)\n",
    "\n",
    "    return cleaned_data\n",
    "\n",
    "# Load JSON data\n",
    "with open(\"../data/all_universities_data.json\", \"r\", encoding=\"utf-8\") as file:\n",
    "    data = json.load(file)\n",
    "\n",
    "# Clean data\n",
    "cleaned_data = clean_data(data)\n",
    "\n",
    "# Save cleaned data\n",
    "with open(\"../data/cleaned_universities_data.json\", \"w\", encoding=\"utf-8\") as file:\n",
    "    json.dump(cleaned_data, file, ensure_ascii=False, indent=4)\n",
    "\n",
    "print(\"Data cleaned and saved to cleaned_data.json\")\n"
   ]
  }
 ],
 "metadata": {
  "kernelspec": {
   "display_name": "venv",
   "language": "python",
   "name": "python3"
  },
  "language_info": {
   "codemirror_mode": {
    "name": "ipython",
    "version": 3
   },
   "file_extension": ".py",
   "mimetype": "text/x-python",
   "name": "python",
   "nbconvert_exporter": "python",
   "pygments_lexer": "ipython3",
   "version": "3.11.4"
  }
 },
 "nbformat": 4,
 "nbformat_minor": 2
}
