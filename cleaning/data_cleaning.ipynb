{
 "cells": [
  {
   "cell_type": "code",
   "execution_count": 11,
   "metadata": {},
   "outputs": [
    {
     "name": "stdout",
     "output_type": "stream",
     "text": [
      "Data cleaned and saved to cleaned_data.json\n"
     ]
    }
   ],
   "source": [
    "import json\n",
    "import re\n",
    "\n",
    "def clean_data(data):\n",
    "    cleaned_data = []\n",
    "\n",
    "    for university in data:\n",
    "        cleaned_university = {\n",
    "            \"มหาวิทยาลัย\": university[\"มหาวิทยาลัย\"],\n",
    "            \"รายละเอียด\": {}\n",
    "        }\n",
    "\n",
    "        for branch, programs in university[\"รายละเอียด\"].items():\n",
    "            # Remove leading numbers from branch names\n",
    "            clean_branch = re.sub(r\"^\\d+\\.\\s*\", \"\", branch)\n",
    "            cleaned_university[\"รายละเอียด\"][clean_branch] = []\n",
    "\n",
    "            for program in programs:\n",
    "                clean_program = {}\n",
    "                for key, value in program.items():\n",
    "                    if key == \"\":\n",
    "                        continue\n",
    "                    elif key == \"ค่าใช้จ่าย\":\n",
    "                        # Extract only the first numeric value from ค่าใช้จ่าย\n",
    "                        match = re.search(r\"\\d{1,3}(?:,\\d{3})*(?:\\.\\d+)?\", value.replace(\",\", \"\"))\n",
    "                        clean_program[key] = int(match.group().replace(\",\", \"\")) if match else \"ไม่ทราบ\"\n",
    "                    elif key.startswith(\"รอบ\"):\n",
    "                        # Extract only numeric values from acceptance numbers\n",
    "                        if \"ไม่เปิดรับสมัครในรอบนี้\" in value:\n",
    "                            clean_program[key] = 0\n",
    "                        else:\n",
    "                            match = re.search(r\"\\d+\", value)\n",
    "                            clean_program[key] = int(match.group()) if match else 0\n",
    "                    else:\n",
    "                        clean_program[key] = value\n",
    "\n",
    "                # Remove empty values\n",
    "                clean_program = {k: v for k, v in clean_program.items() if v != \"\"}\n",
    "                cleaned_university[\"รายละเอียด\"][clean_branch].append(clean_program)\n",
    "\n",
    "        cleaned_data.append(cleaned_university)\n",
    "\n",
    "    return cleaned_data\n",
    "\n",
    "# Load JSON data\n",
    "with open(\"../data/all_universities_data.json\", \"r\", encoding=\"utf-8\") as file:\n",
    "    data = json.load(file)\n",
    "\n",
    "# Clean data\n",
    "cleaned_data = clean_data(data)\n",
    "\n",
    "# Save cleaned data\n",
    "with open(\"../data/cleaned_universities_data.json\", \"w\", encoding=\"utf-8\") as file:\n",
    "    json.dump(cleaned_data, file, ensure_ascii=False, indent=4)\n",
    "\n",
    "print(\"Data cleaned and saved to cleaned_data.json\")\n"
   ]
  },
  {
   "cell_type": "markdown",
   "metadata": {},
   "source": [
    "#Convert to CSV"
   ]
  },
  {
   "cell_type": "code",
   "execution_count": 1,
   "metadata": {},
   "outputs": [
    {
     "name": "stdout",
     "output_type": "stream",
     "text": [
      "Data has been converted to CSV and saved to data.csv\n"
     ]
    }
   ],
   "source": [
    "import json\n",
    "import csv\n",
    "\n",
    "with open(\"../data/cleaned_universities_data.json\", \"r\", encoding=\"utf-8\") as file:\n",
    "    data = json.load(file)\n",
    "\n",
    "csv_data = []\n",
    "csv_headers = [\n",
    "    \"มหาวิทยาลัย\", \"คณะ\", \"ชื่อหลักสูตร\", \"ชื่อหลักสูตรภาษาอังกฤษ\", \"ประเภทหลักสูตร\", \"วิทยาเขต\",\n",
    "    \"ค่าใช้จ่าย\", \"อัตราการสำเร็จการศึกษา\", \"อัตราการได้งานทำ\", \"ค่ามัธยฐานเงินเดือน\",\n",
    "    \"รอบ 1 Portfolio\", \"รอบ 2 Quota\", \"รอบ 3 Admission\", \"รอบ 4 Direct Admission\"\n",
    "]\n",
    "\n",
    "for university in data:\n",
    "    university_name = university[\"มหาวิทยาลัย\"]\n",
    "    for branch, programs in university[\"รายละเอียด\"].items():\n",
    "        for program in programs:\n",
    "            row = {\n",
    "                \"มหาวิทยาลัย\": university_name,\n",
    "                \"คณะ\": branch,\n",
    "                \"ชื่อหลักสูตร\": program.get(\"ชื่อหลักสูตร\", \"\"),\n",
    "                \"ชื่อหลักสูตรภาษาอังกฤษ\": program.get(\"ชื่อหลักสูตรภาษาอังกฤษ\", \"\"),\n",
    "                \"ประเภทหลักสูตร\": program.get(\"ประเภทหลักสูตร\", \"\"),\n",
    "                \"วิทยาเขต\": program.get(\"วิทยาเขต\", \"\"),\n",
    "                \"ค่าใช้จ่าย\": program.get(\"ค่าใช้จ่าย\", \"\"),\n",
    "                \"อัตราการสำเร็จการศึกษา\": program.get(\"อัตราการสำเร็จการศึกษา\", \"\"),\n",
    "                \"อัตราการได้งานทำ\": program.get(\"อัตราการได้งานทำ\", \"\"),\n",
    "                \"ค่ามัธยฐานเงินเดือน\": program.get(\"ค่ามัธยฐานเงินเดือน\", \"\"),\n",
    "                \"รอบ 1 Portfolio\": program.get(\"รอบ 1 Portfolio\", \"\"),\n",
    "                \"รอบ 2 Quota\": program.get(\"รอบ 2 Quota\", \"\"),\n",
    "                \"รอบ 3 Admission\": program.get(\"รอบ 3 Admission\", \"\"),\n",
    "                \"รอบ 4 Direct Admission\": program.get(\"รอบ 4 Direct Admission\", \"\")\n",
    "            }\n",
    "            csv_data.append(row)\n",
    "\n",
    "with open(\"../data/cleaned_universities_data.csv\", \"w\", newline=\"\", encoding=\"utf-8\") as file:\n",
    "    writer = csv.DictWriter(file, fieldnames=csv_headers)\n",
    "    writer.writeheader()\n",
    "    writer.writerows(csv_data)\n",
    "\n",
    "print(\"Data has been converted to CSV and saved to data.csv\")\n"
   ]
  }
 ],
 "metadata": {
  "kernelspec": {
   "display_name": "venv",
   "language": "python",
   "name": "python3"
  },
  "language_info": {
   "codemirror_mode": {
    "name": "ipython",
    "version": 3
   },
   "file_extension": ".py",
   "mimetype": "text/x-python",
   "name": "python",
   "nbconvert_exporter": "python",
   "pygments_lexer": "ipython3",
   "version": "3.11.4"
  }
 },
 "nbformat": 4,
 "nbformat_minor": 2
}
