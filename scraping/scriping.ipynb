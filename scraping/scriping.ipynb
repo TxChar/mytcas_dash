{
 "cells": [
  {
   "cell_type": "markdown",
   "metadata": {},
   "source": [
    "#EXAMPLE BS4SOUP"
   ]
  },
  {
   "cell_type": "code",
   "execution_count": 9,
   "metadata": {},
   "outputs": [
    {
     "name": "stdout",
     "output_type": "stream",
     "text": [
      "- How to Use Generics in Java – Explained with Code Examples\n",
      "- From doing data entry to becoming a developer with Jessica Chan AKA Coder Coder [Podcast #132]\n",
      "- Learn Linux for Beginners: From Basics to Advanced Techniques [Full Book]\n",
      "- What is the tRPC Library? Explained with a Demo Project\n",
      "- Learn Asynchronous JavaScript\n",
      "- How to Deploy a Web App\n",
      "- More Secure Authentication: From Passwords to Passkeys\n",
      "- How to Upgrade from Node 16 and Jest 26 While Staying on React Scripts 4\n",
      "- How Does a CPU Work Internally? From Transistors to Instruction Set Architecture\n",
      "- How to Use Python Generators – Explained With Code Examples\n",
      "- How to Send HTTP Requests Using JavaScript\n",
      "- Full Stack Development with Next.js, Clerk, and Neon Postgres\n",
      "- How to Build a Counter Button with React, TailwindCSS, and TypeScript\n",
      "- How to Improve User Experience with Optimistic UI and SWR\n",
      "- Prepare to pass the AWS SysOps Administrator Associate (SOA-C02) Certification\n",
      "- Learn TypeScript with Interactive Lessons\n",
      "- How to Use Pandoc – An Open Source Tool for Technical Writers\n",
      "- How Does Knowledge Distillation Work in Deep Learning Models?\n",
      "- How to Perform Load Testing in Spring Boot with Gatling\n",
      "- How to Build a Vue E-commerce App Using MSW\n",
      "- What are Markov Chains? Explained With Python Code Examples\n",
      "- ​​How to Upload Large Files Efficiently with AWS S3 Multipart Upload\n",
      "- What Scott Hanselman learned from 900 podcast interviews with devs [Podcast #131]\n",
      "- How to Use Callback Functions in JavaScript\n",
      "- Build a Meditation App with React Native & Expo Router\n",
      "- Trending Guides\n",
      "- Mobile App\n",
      "- Our Charity\n"
     ]
    }
   ],
   "source": [
    "import requests\n",
    "from bs4 import BeautifulSoup\n",
    "\n",
    "url = \"https://freecodecamp.org/news/\"\n",
    "response = requests.get(url)\n",
    "soup = BeautifulSoup(response.content, \"html.parser\")\n",
    "\n",
    "titles = []\n",
    "for title in soup.find_all(\"h2\"):\n",
    "    titles.append(title.get_text().strip())\n",
    "    \n",
    "titles = [title.get_text().strip() for title in soup.find_all(\"h2\")]\n",
    "\n",
    "for title in titles:\n",
    "    print(\"-\", title)\n",
    "\n"
   ]
  },
  {
   "cell_type": "markdown",
   "metadata": {},
   "source": [
    "# EXAPLE SELENIUM"
   ]
  },
  {
   "cell_type": "code",
   "execution_count": 27,
   "metadata": {},
   "outputs": [
    {
     "name": "stdout",
     "output_type": "stream",
     "text": [
      "TCAS67 - ระบบการคัดเลือกบุคคลเข้าศึกษาต่อในระดับมหาวิทยาลัย ปีการศึกษา 2567\n"
     ]
    }
   ],
   "source": [
    "#Show Title\n",
    "from selenium import webdriver\n",
    "from selenium.webdriver.chrome.options import Options\n",
    "from selenium.webdriver.chrome.service import Service\n",
    "from webdriver_manager.chrome import ChromeDriverManager\n",
    "\n",
    "options = Options()\n",
    "options.add_argument('--headless')\n",
    "options.add_argument('--no-sandbox')\n",
    "options.add_argument('--disable-dev-shm-usage')\n",
    "driver = webdriver.Chrome(service=Service(ChromeDriverManager().install()), options=options)\n",
    "\n",
    "driver.get(\"https://course.mytcas.com/universities/\")\n",
    "print(driver.title)\n",
    "driver.close()"
   ]
  },
  {
   "cell_type": "code",
   "execution_count": 28,
   "metadata": {},
   "outputs": [],
   "source": [
    "#Searching\n",
    "import time\n",
    "from selenium import webdriver\n",
    "from selenium.webdriver.chrome.options import Options\n",
    "from selenium.webdriver.chrome.service import Service\n",
    "from selenium.webdriver.common.by import By\n",
    "from selenium.webdriver.common.keys import Keys\n",
    "from webdriver_manager.chrome import ChromeDriverManager\n",
    "\n",
    "options = Options()\n",
    "# options.add_argument('--headless')\n",
    "# options.add_argument('--no-sandbox')\n",
    "options.add_argument('--disable-dev-shm-usage')\n",
    "driver = webdriver.Chrome(service=Service(ChromeDriverManager().install()), options=options)\n",
    "\n",
    "driver.get('http://www.google.com')\n",
    "search = driver.find_element(by=By.NAME, value=\"q\")\n",
    "search.send_keys(\"Hey, Tecadmin\")\n",
    "search.send_keys(Keys.RETURN)\n",
    "\n",
    "time.sleep(5)\n",
    "driver.close()"
   ]
  }
 ],
 "metadata": {
  "kernelspec": {
   "display_name": "venv",
   "language": "python",
   "name": "python3"
  },
  "language_info": {
   "codemirror_mode": {
    "name": "ipython",
    "version": 3
   },
   "file_extension": ".py",
   "mimetype": "text/x-python",
   "name": "python",
   "nbconvert_exporter": "python",
   "pygments_lexer": "ipython3",
   "version": "3.11.4"
  }
 },
 "nbformat": 4,
 "nbformat_minor": 2
}
